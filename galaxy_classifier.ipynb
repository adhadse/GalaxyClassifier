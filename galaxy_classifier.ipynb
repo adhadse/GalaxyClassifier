{
 "cells": [
  {
   "cell_type": "markdown",
   "metadata": {},
   "source": [
    "# Task 1\n",
    "## Import the libraries/packages"
   ]
  },
  {
   "cell_type": "code",
   "execution_count": 1,
   "metadata": {
    "pycharm": {
     "is_executing": true
    },
    "tags": []
   },
   "outputs": [],
   "source": [
    "import itertools\n",
    "\n",
    "import numpy as np\n",
    "from sklearn.tree import DecisionTreeClassifier\n",
    "from matplotlib import pyplot as plt\n",
    "from sklearn.metrics import confusion_matrix\n",
    "from sklearn.model_selection import cross_val_predict\n",
    "from sklearn.ensemble import RandomForestClassifier\n",
    "import joblib"
   ]
  },
  {
   "cell_type": "markdown",
   "metadata": {},
   "source": [
    "# Task 2\n",
    "## Split the data"
   ]
  },
  {
   "cell_type": "code",
   "execution_count": 2,
   "metadata": {},
   "outputs": [
    {
     "name": "stdout",
     "output_type": "stream",
     "text": [
      "Number data galaxies: 780\n",
      "Train fraction: 0.7\n",
      "Number of galaxies in training set: 546\n",
      "Number of galaxies in testing set: 234\n"
     ]
    }
   ],
   "source": [
    "def splitdata_train_test(data, fraction_training):\n",
    "    # Shuffle the data\n",
    "    np.random.shuffle(data)\n",
    "\n",
    "    # Split the data\n",
    "    limit = int(len(data)*fraction_training)\n",
    "    training = data[0:limit]\n",
    "    testing = data[limit:]\n",
    "\n",
    "    return training, testing\n",
    "\n",
    "\n",
    "def main():\n",
    "    data = np.load(r'./Dataset/galaxy_catalogue.npy')\n",
    "\n",
    "    # set the fraction of data which should be in the training set\n",
    "    fraction_training = 0.7\n",
    "\n",
    "    # split the data using your function\n",
    "    training, testing = splitdata_train_test(data, fraction_training)\n",
    "\n",
    "    # print the key values\n",
    "    print('Number data galaxies:', len(data))\n",
    "    print('Train fraction:', fraction_training)\n",
    "    print('Number of galaxies in training set:', len(training))\n",
    "    print('Number of galaxies in testing set:', len(testing))\n",
    "\n",
    "\n",
    "main()"
   ]
  },
  {
   "cell_type": "markdown",
   "metadata": {},
   "source": [
    "# Task 3\n",
    "## Generate feature targets"
   ]
  },
  {
   "cell_type": "code",
   "execution_count": 3,
   "metadata": {
    "scrolled": true
   },
   "outputs": [
    {
     "name": "stdout",
     "output_type": "stream",
     "text": [
      "Features shape: (780, 13)\n",
      "Targets shape: (780,)\n"
     ]
    }
   ],
   "source": [
    "def generate_features_targets(data):\n",
    "    targets = data['class']\n",
    "\n",
    "    features = np.empty(shape=(len(data), 13))\n",
    "    features[:, 0] = data['u-g']\n",
    "    features[:, 1] = data['g-r']\n",
    "    features[:, 2] = data['r-i']\n",
    "    features[:, 3] = data['i-z']\n",
    "    features[:, 4] = data['ecc']\n",
    "    features[:, 5] = data['m4_u']\n",
    "    features[:, 6] = data['m4_g']\n",
    "    features[:, 7] = data['m4_r']\n",
    "    features[:, 8] = data['m4_i']\n",
    "    features[:, 9] = data['m4_z']\n",
    "\n",
    "    # concentration in u filter\n",
    "    features[:, 10] = data['petroR50_u']/data['petroR90_u']\n",
    "    # concentration in r filter\n",
    "    features[:, 11] = data['petroR50_r']/data['petroR90_r']\n",
    "    # concentration in z filter\n",
    "    features[:, 12] = data['petroR50_z']/data['petroR90_z']\n",
    "\n",
    "    return features, targets\n",
    "\n",
    "\n",
    "def main():\n",
    "  data = np.load(r'./Dataset/galaxy_catalogue.npy')\n",
    "\n",
    "  features, targets = generate_features_targets(data)\n",
    "\n",
    "  # The shape of each array to check the arrays are the correct dimensions \n",
    "  print(\"Features shape:\", features.shape)\n",
    "  print(\"Targets shape:\", targets.shape)\n",
    "\n",
    "\n",
    "main()"
   ]
  },
  {
   "cell_type": "markdown",
   "metadata": {},
   "source": [
    "# Task 4\n",
    "## Train the decision tree classifier"
   ]
  },
  {
   "cell_type": "code",
   "execution_count": 4,
   "metadata": {},
   "outputs": [
    {
     "name": "stdout",
     "output_type": "stream",
     "text": [
      "Some initial results...\n",
      "   predicted,  actual\n",
      "0. elliptical, elliptical\n",
      "1. elliptical, elliptical\n",
      "2. elliptical, elliptical\n",
      "3. spiral, spiral\n",
      "4. merger, spiral\n",
      "5. elliptical, spiral\n",
      "6. elliptical, elliptical\n",
      "7. spiral, spiral\n",
      "8. merger, spiral\n",
      "9. elliptical, elliptical\n"
     ]
    }
   ],
   "source": [
    "def dtc_predict_actual(data):\n",
    "    # split the data into training and testing sets using a training\n",
    "    # fraction of 0.7\n",
    "    training, testing = splitdata_train_test(data, 0.7)\n",
    "\n",
    "    # generate the feature and targets for the training and test sets\n",
    "    # i.e. train_features, train_targets, test_features, test_targets\n",
    "    train_features, train_targets = generate_features_targets(training)\n",
    "    test_features, test_targets = generate_features_targets(testing)\n",
    "\n",
    "    # instantiate a decision tree classifier\n",
    "    dtr = DecisionTreeClassifier()\n",
    "\n",
    "    # train the classifier with the train_features and train_targets\n",
    "    dtr.fit(train_features, train_targets)\n",
    "\n",
    "    # get predictions for the test_features\n",
    "    predictions = dtr.predict(test_features)\n",
    "\n",
    "    # return the predictions and the test_targets\n",
    "    return predictions, test_targets\n",
    "\n",
    "\n",
    "def main():\n",
    "    data = np.load(r'./Dataset/galaxy_catalogue.npy')\n",
    "\n",
    "    predicted_class, actual_class = dtc_predict_actual(data)\n",
    "\n",
    "    # Print some of the initial results\n",
    "    print(\"Some initial results...\\n   predicted,  actual\")\n",
    "    for i in range(10):\n",
    "        print(\"{}. {}, {}\".format(i, predicted_class[i], actual_class[i]))\n",
    "\n",
    "\n",
    "main()"
   ]
  },
  {
   "cell_type": "markdown",
   "metadata": {},
   "source": [
    "# Task 5\n",
    "## Working on DECISION TREE CLASSIFIER"
   ]
  },
  {
   "cell_type": "code",
   "execution_count": 5,
   "metadata": {
    "scrolled": true
   },
   "outputs": [
    {
     "name": "stdout",
     "output_type": "stream",
     "text": [
      "Our accuracy score: 0.7833333333333333\n",
      "Confusion matrix, without normalization\n",
      "[[183  22  55]\n",
      " [ 23 232   5]\n",
      " [ 58   6 196]]\n"
     ]
    },
    {
     "data": {
      "image/png": "[encoded data removed]",
      "text/plain": [
       "<Figure size 432x288 with 2 Axes>"
      ]
     },
     "metadata": {
      "needs_background": "light"
     },
     "output_type": "display_data"
    }
   ],
   "source": [
    "def plot_confusion_matrix(cm, classes,\n",
    "                          normalize=False,\n",
    "                          title='Confusion matrix',\n",
    "                          cmap=plt.cm.Blues):\n",
    "    \"\"\"\n",
    "    This function prints and plots the confusion matrix.\n",
    "    Normalization can be applied by setting `normalize=True`.\n",
    "    \"\"\"\n",
    "    plt.imshow(cm, interpolation='nearest', cmap=cmap)\n",
    "    plt.title(title)\n",
    "    plt.colorbar()\n",
    "    tick_marks = np.arange(len(classes))\n",
    "    plt.xticks(tick_marks, classes, rotation=45)\n",
    "    plt.yticks(tick_marks, classes)\n",
    "\n",
    "    if normalize:\n",
    "        cm = cm.astype('float') / cm.sum(axis=1)[:, np.newaxis]\n",
    "        print(\"Normalized confusion matrix\")\n",
    "    else:\n",
    "        print('Confusion matrix, without normalization')\n",
    "\n",
    "    print(cm)\n",
    "\n",
    "    thresh = cm.max() / 2.\n",
    "    for i, j in itertools.product(range(cm.shape[0]), range(cm.shape[1])):\n",
    "        plt.text(j, i, \"{}\".format(cm[i, j]),\n",
    "                 horizontalalignment=\"center\",\n",
    "                 color=\"white\" if cm[i, j] > thresh else \"black\")\n",
    "\n",
    "    plt.tight_layout()\n",
    "    plt.ylabel('True Class')\n",
    "    plt.xlabel('Predicted Class')\n",
    "\n",
    "\n",
    "def calculate_accuracy(predicted, actual):\n",
    "    correct = sum(predicted == actual)\n",
    "    return correct/(len(predicted))\n",
    "\n",
    "\n",
    "def main():\n",
    "    data = np.load(r'./Dataset/galaxy_catalogue.npy')\n",
    "\n",
    "    # split the data\n",
    "    features, targets = generate_features_targets(data)\n",
    "\n",
    "    # train the model to get predicted and actual classes\n",
    "    dtc = DecisionTreeClassifier()\n",
    "    predicted = cross_val_predict(dtc, features, targets, cv=10)\n",
    "\n",
    "    # calculate the model score using your function\n",
    "    model_score = calculate_accuracy(predicted, targets)\n",
    "    print(\"Our accuracy score:\", model_score)\n",
    "\n",
    "    # calculate the models confusion matrix using sklearns confusion_matrix\n",
    "    class_labels = list(set(targets))\n",
    "    model_cm = confusion_matrix(y_true=targets, y_pred=predicted,\n",
    "                                labels=class_labels)\n",
    "\n",
    "    # Plot the confusion matrix using the provided functions.\n",
    "    plt.figure()\n",
    "    plot_confusion_matrix(model_cm, classes=class_labels, normalize=False)\n",
    "    plt.show()\n",
    "\n",
    "\n",
    "main()"
   ]
  },
  {
   "cell_type": "markdown",
   "metadata": {},
   "source": [
    "# Task 6\n",
    "## Working on RANDOM FOREST CLASSIFIER & Saving the model"
   ]
  },
  {
   "cell_type": "code",
   "execution_count": 6,
   "metadata": {},
   "outputs": [
    {
     "name": "stdout",
     "output_type": "stream",
     "text": [
      "Accuracy score: 0.8705128205128205\n",
      "Confusion matrix, without normalization\n",
      "[[210  15  35]\n",
      " [ 13 246   1]\n",
      " [ 35   2 223]]\n"
     ]
    },
    {
     "data": {
      "image/png": "[encoded data removed]",
      "text/plain": [
       "<Figure size 432x288 with 2 Axes>"
      ]
     },
     "metadata": {
      "needs_background": "light"
     },
     "output_type": "display_data"
    }
   ],
   "source": [
    "def rf_predict_actual(data, n_estimators):\n",
    "    # generate the features and targets\n",
    "    features, targets = generate_features_targets(data)\n",
    "\n",
    "    # instantiate a random forest classifier using n estimators\n",
    "    rfc = RandomForestClassifier(n_estimators=n_estimators)\n",
    "\n",
    "    # get predictions using 10-fold cross validation with cross_val_predict\n",
    "    predicted = cross_val_predict(rfc, features, targets, cv=10)\n",
    "\n",
    "    # return the predictions and their actual classes\n",
    "    return predicted, targets\n",
    "\n",
    "\n",
    "def main():\n",
    "    data = np.load(r'./Dataset/galaxy_catalogue.npy')\n",
    "\n",
    "    # get the predicted and actual classes\n",
    "    number_estimators = 50              # Number of trees\n",
    "    predicted, actual = rf_predict_actual(data, number_estimators)\n",
    "\n",
    "    # calculate the model score using your function\n",
    "    accuracy = calculate_accuracy(predicted, actual)\n",
    "    print(\"Accuracy score:\", accuracy)\n",
    "\n",
    "    # calculate the models confusion matrix using sklearns confusion_matrix\n",
    "    class_labels = list(set(actual))\n",
    "    model_cm = confusion_matrix(y_true=actual, y_pred=predicted,\n",
    "                                labels=class_labels)\n",
    "\n",
    "    # plot the confusion matrix using the provided functions.\n",
    "    plt.figure()\n",
    "    plot_confusion_matrix(model_cm, classes=class_labels, normalize=False)\n",
    "    plt.show()\n",
    "\n",
    "\n",
    "main()"
   ]
  },
  {
   "cell_type": "markdown",
   "metadata": {},
   "source": [
    "# Task 7\n",
    "# Save model using joblib"
   ]
  },
  {
   "cell_type": "code",
   "execution_count": 7,
   "metadata": {
    "pycharm": {
     "is_executing": true
    }
   },
   "outputs": [],
   "source": [
    "filename = \"random_forest_classifier.sav\"\n",
    "\n",
    "\n",
    "def train_final_model(data, n_estimators):\n",
    "    # generate the features and targets\n",
    "    features, targets = generate_features_targets(data)\n",
    "\n",
    "    # instantiate a random forest classifier using n estimators\n",
    "    rfc = RandomForestClassifier(n_estimators=n_estimators)\n",
    "\n",
    "    rfc.fit(features, targets)\n",
    "\n",
    "    # return the trained model\n",
    "    return rfc\n",
    "\n",
    "\n",
    "def main():\n",
    "    data = np.load(r'./Dataset/galaxy_catalogue.npy')\n",
    "\n",
    "    # get the predicted and actual classes\n",
    "    number_estimators = 50              # Number of trees\n",
    "    rfc = train_final_model(data, number_estimators)\n",
    "\n",
    "    # save the model\n",
    "    joblib.dump(rfc, filename)\n",
    "\n",
    "\n",
    "main()"
   ]
  },
  {
   "cell_type": "code",
   "execution_count": 8,
   "metadata": {},
   "outputs": [
    {
     "data": {
      "text/plain": [
       "{260: {'u-g': 1.9856599999999993,\n",
       "  'g-r': 1.0097799999999992,\n",
       "  'r-i': 0.42698000000000036,\n",
       "  'i-z': 0.3505900000000004,\n",
       "  'ecc': 0.8356463,\n",
       "  'm4_u': 2.312245,\n",
       "  'm4_g': 2.39544,\n",
       "  'm4_r': 2.405547,\n",
       "  'm4_i': 2.413431,\n",
       "  'm4_z': 2.404687,\n",
       "  'petroR50_u': 5.98112,\n",
       "  'petroR50_r': 3.884396,\n",
       "  'petroR50_z': 3.401217,\n",
       "  'petroR90_u': 13.02754,\n",
       "  'petroR90_r': 12.71526,\n",
       "  'petroR90_z': 11.14201,\n",
       "  'class': 'elliptical'},\n",
       " 261: {'u-g': 1.732569999999999,\n",
       "  'g-r': 0.7932200000000016,\n",
       "  'r-i': 0.36514999999999986,\n",
       "  'i-z': 0.2759499999999999,\n",
       "  'ecc': 0.7729652,\n",
       "  'm4_u': 2.440563,\n",
       "  'm4_g': 2.436527,\n",
       "  'm4_r': 2.438067,\n",
       "  'm4_i': 2.450391,\n",
       "  'm4_z': 2.449846,\n",
       "  'petroR50_u': 3.903986,\n",
       "  'petroR50_r': 3.353124,\n",
       "  'petroR50_z': 3.374084,\n",
       "  'petroR90_u': 10.00324,\n",
       "  'petroR90_r': 10.09797,\n",
       "  'petroR90_z': 9.481544,\n",
       "  'class': 'elliptical'},\n",
       " 262: {'u-g': 1.984020000000001,\n",
       "  'g-r': 0.9302599999999988,\n",
       "  'r-i': 0.45279000000000025,\n",
       "  'i-z': 0.3043899999999997,\n",
       "  'ecc': 0.8608131,\n",
       "  'm4_u': 2.404461,\n",
       "  'm4_g': 2.449999,\n",
       "  'm4_r': 2.444477,\n",
       "  'm4_i': 2.446325,\n",
       "  'm4_z': 2.425594,\n",
       "  'petroR50_u': 6.158869,\n",
       "  'petroR50_r': 5.476078,\n",
       "  'petroR50_z': 5.26948,\n",
       "  'petroR90_u': 18.79408,\n",
       "  'petroR90_r': 18.13418,\n",
       "  'petroR90_z': 17.63388,\n",
       "  'class': 'elliptical'},\n",
       " 263: {'u-g': 1.9042600000000007,\n",
       "  'g-r': 0.88645,\n",
       "  'r-i': 0.4107200000000013,\n",
       "  'i-z': 0.29654999999999987,\n",
       "  'ecc': 0.6123837,\n",
       "  'm4_u': 2.361025,\n",
       "  'm4_g': 2.384229,\n",
       "  'm4_r': 2.400331,\n",
       "  'm4_i': 2.401162,\n",
       "  'm4_z': 2.403618,\n",
       "  'petroR50_u': 3.922631,\n",
       "  'petroR50_r': 3.385265,\n",
       "  'petroR50_z': 3.263491,\n",
       "  'petroR90_u': 11.56105,\n",
       "  'petroR90_r': 11.0353,\n",
       "  'petroR90_z': 11.25909,\n",
       "  'class': 'elliptical'},\n",
       " 264: {'u-g': 1.8418200000000002,\n",
       "  'g-r': 0.8205600000000004,\n",
       "  'r-i': 0.3871299999999991,\n",
       "  'i-z': 0.2973800000000004,\n",
       "  'ecc': 0.6941335,\n",
       "  'm4_u': 2.42052,\n",
       "  'm4_g': 2.511369,\n",
       "  'm4_r': 2.502473,\n",
       "  'm4_i': 2.496634,\n",
       "  'm4_z': 2.482666,\n",
       "  'petroR50_u': 8.730607,\n",
       "  'petroR50_r': 6.339789,\n",
       "  'petroR50_z': 6.191707,\n",
       "  'petroR90_u': 23.89326,\n",
       "  'petroR90_r': 20.34526,\n",
       "  'petroR90_z': 20.24513,\n",
       "  'class': 'elliptical'}}"
      ]
     },
     "execution_count": 8,
     "metadata": {},
     "output_type": "execute_result"
    }
   ],
   "source": [
    "import pandas as pd\n",
    "import numpy as np\n",
    "\n",
    "\n",
    "data = pd.DataFrame(np.load(r'./Dataset/galaxy_catalogue.npy'))\n",
    "data[data[\"class\"] == \"elliptical\"].head().T.to_dict()"
   ]
  },
  {
   "cell_type": "code",
   "execution_count": 9,
   "metadata": {},
   "outputs": [
    {
     "data": {
      "text/plain": [
       "array(['merger', 'elliptical', 'spiral'], dtype=object)"
      ]
     },
     "execution_count": 9,
     "metadata": {},
     "output_type": "execute_result"
    }
   ],
   "source": [
    "data[\"class\"].unique()"
   ]
  },
  {
   "cell_type": "code",
   "execution_count": 10,
   "metadata": {},
   "outputs": [
    {
     "data": {
      "text/plain": [
       "merger        260\n",
       "elliptical    260\n",
       "spiral        260\n",
       "Name: class, dtype: int64"
      ]
     },
     "execution_count": 10,
     "metadata": {},
     "output_type": "execute_result"
    }
   ],
   "source": [
    "data[\"class\"].value_counts()"
   ]
  },
  {
   "cell_type": "code",
   "execution_count": null,
   "metadata": {},
   "outputs": [],
   "source": []
  }
 ],
 "metadata": {
  "kernelspec": {
   "display_name": "Python 3 (ipykernel)",
   "language": "python",
   "name": "python3"
  },
  "language_info": {
   "codemirror_mode": {
    "name": "ipython",
    "version": 3
   },
   "file_extension": ".py",
   "mimetype": "text/x-python",
   "name": "python",
   "nbconvert_exporter": "python",
   "pygments_lexer": "ipython3",
   "version": "3.10.5"
  }
 },
 "nbformat": 4,
 "nbformat_minor": 4
}
